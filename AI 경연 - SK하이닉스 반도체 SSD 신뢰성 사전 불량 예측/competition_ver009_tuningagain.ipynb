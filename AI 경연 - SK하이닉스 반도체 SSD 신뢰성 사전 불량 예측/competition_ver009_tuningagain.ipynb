{
 "cells": [
  {
   "cell_type": "code",
   "execution_count": 1,
   "metadata": {},
   "outputs": [
    {
     "name": "stdout",
     "output_type": "stream",
     "text": [
      "Defaulting to user installation because normal site-packages is not writeable\n",
      "Requirement already satisfied: xgboost in ./.local/lib/python3.10/site-packages (2.1.1)\n",
      "Requirement already satisfied: nvidia-nccl-cu12 in ./.local/lib/python3.10/site-packages (from xgboost) (2.18.1)\n",
      "Requirement already satisfied: numpy in ./.local/lib/python3.10/site-packages (from xgboost) (1.26.4)\n",
      "Requirement already satisfied: scipy in ./.local/lib/python3.10/site-packages (from xgboost) (1.11.3)\n",
      "\n",
      "\u001b[1m[\u001b[0m\u001b[34;49mnotice\u001b[0m\u001b[1;39;49m]\u001b[0m\u001b[39;49m A new release of pip is available: \u001b[0m\u001b[31;49m23.0.1\u001b[0m\u001b[39;49m -> \u001b[0m\u001b[32;49m24.2\u001b[0m\n",
      "\u001b[1m[\u001b[0m\u001b[34;49mnotice\u001b[0m\u001b[1;39;49m]\u001b[0m\u001b[39;49m To update, run: \u001b[0m\u001b[32;49mpip install --upgrade pip\u001b[0m\n"
     ]
    }
   ],
   "source": [
    "import os\n",
    "import sys\n",
    "import pandas as pd\n",
    "import numpy as np\n",
    "from matplotlib import pyplot as plt\n",
    "from matplotlib import style\n",
    "style.use('ggplot')\n",
    "import seaborn as sns\n",
    "import tqdm\n",
    "import random\n",
    "\n",
    "from sklearn.preprocessing import StandardScaler\n",
    "from sklearn.tree import DecisionTreeClassifier\n",
    "from sklearn.metrics import f1_score\n",
    "\n",
    "!pip install xgboost\n",
    "import xgboost as xgb\n",
    "from xgboost import XGBClassifier\n",
    "from xgboost import plot_importance, plot_tree\n",
    "from sklearn.preprocessing import LabelEncoder\n",
    "from sklearn.model_selection import GridSearchCV\n",
    "from sklearn.model_selection import train_test_split\n",
    "from sklearn.model_selection import cross_val_score\n",
    "from sklearn.metrics import f1_score\n",
    "from sklearn.model_selection import RepeatedStratifiedKFold\n",
    "\n",
    "import warnings\n",
    "warnings.filterwarnings(\"ignore\")\n",
    "\n",
    "data_dir = '/mnt/elice/dataset'"
   ]
  },
  {
   "cell_type": "code",
   "execution_count": 2,
   "metadata": {},
   "outputs": [],
   "source": [
    "# 재현성 확보를 위해 시드값을 고정합니다.\n",
    "seed = 42\n",
    "np.random.seed(seed)\n",
    "random.seed(seed)\n",
    "os.environ['PYTHONHASHSEED'] = str(seed)"
   ]
  },
  {
   "cell_type": "code",
   "execution_count": 3,
   "metadata": {},
   "outputs": [],
   "source": [
    "# train_df: serial number, timestamp, X1, X2~18, Y\n",
    "train_df = pd.read_csv(os.path.join(data_dir, \"train.csv\"), index_col='Serial Number')\n",
    "# test_x: serial number, timestamp, X1, X2~18\n",
    "test_x = pd.read_csv(os.path.join(data_dir, \"test_x.csv\"), index_col='Serial Number')\n",
    "\n",
    "''' timestamp 열 형식 바꾸기 '''\n",
    "train_df['TIMESTAMP'] = pd.to_datetime(train_df['TIMESTAMP'])\n",
    "train_df['TIMESTAMP'] = train_df['TIMESTAMP'].map(lambda t: t.strftime('%Y-%m-%d %H:%M'))\n",
    "test_x['TIMESTAMP'] = pd.to_datetime(test_x['TIMESTAMP'])\n",
    "test_x['TIMESTAMP'] = test_x['TIMESTAMP'].map(lambda t: t.strftime('%Y-%m-%d %H:%M'))\n",
    "\n",
    "''' 컬럼 키 추출 '''\n",
    "serial_key = train_df.index.name\n",
    "date_time_key = list(train_df.columns)[0]\n",
    "feature_keys = list(train_df.columns)[2:-1]\n",
    "target_key = list(train_df.columns)[-1]\n",
    "\n",
    "# train_x: serial number, timestamp, X1, X2~18\n",
    "train_x = train_df.drop(columns='Y')\n",
    "# train_y: serial_number, Y\n",
    "train_y = pd.read_csv(os.path.join(data_dir, \"train_y.csv\"), index_col='Serial Number')"
   ]
  },
  {
   "cell_type": "markdown",
   "metadata": {},
   "source": [
    "# 데이터 전처리"
   ]
  },
  {
   "cell_type": "markdown",
   "metadata": {},
   "source": [
    "## 장비 이름을 나타내는 X1 변수를 제거"
   ]
  },
  {
   "cell_type": "code",
   "execution_count": 4,
   "metadata": {},
   "outputs": [],
   "source": [
    "train_x.drop(columns='X1', inplace=True)\n",
    "test_x.drop(columns='X1', inplace=True)"
   ]
  },
  {
   "cell_type": "markdown",
   "metadata": {},
   "source": [
    "## `StandardScaler` 를 활용해 표준화 "
   ]
  },
  {
   "cell_type": "code",
   "execution_count": 5,
   "metadata": {},
   "outputs": [],
   "source": [
    "scaler = StandardScaler()\n",
    "\n",
    "train_x[feature_keys] = scaler.fit_transform(train_x[feature_keys])\n",
    "test_x[feature_keys] = scaler.transform(test_x[feature_keys])"
   ]
  },
  {
   "cell_type": "markdown",
   "metadata": {},
   "source": [
    "## Serial Number를 기준으로 분리"
   ]
  },
  {
   "cell_type": "code",
   "execution_count": 6,
   "metadata": {},
   "outputs": [],
   "source": [
    "# 데이터를 index가 같은 컬럼 별로 분리해서 리스트에 저장\n",
    "# group: (그룹 이름, 그룹 데이터프레임) => group[1]: 그룹 데이터프레임\n",
    "train_x_by_serial = [group[1] for group in train_x.groupby(train_x.index)]\n",
    "test_x_by_serial = [group[1] for group in test_x.groupby(test_x.index)]\n",
    "\n",
    "# TIMESTAMP 값을 기준으로 정렬\n",
    "train_x_by_serial = [group.sort_values('TIMESTAMP') for group in train_x_by_serial]\n",
    "test_x_by_serial = [group.sort_values('TIMESTAMP') for group in test_x_by_serial]"
   ]
  },
  {
   "cell_type": "code",
   "execution_count": 17,
   "metadata": {
    "scrolled": true
   },
   "outputs": [
    {
     "data": {
      "text/html": [
       "<div>\n",
       "<style scoped>\n",
       "    .dataframe tbody tr th:only-of-type {\n",
       "        vertical-align: middle;\n",
       "    }\n",
       "\n",
       "    .dataframe tbody tr th {\n",
       "        vertical-align: top;\n",
       "    }\n",
       "\n",
       "    .dataframe thead th {\n",
       "        text-align: right;\n",
       "    }\n",
       "</style>\n",
       "<table border=\"1\" class=\"dataframe\">\n",
       "  <thead>\n",
       "    <tr style=\"text-align: right;\">\n",
       "      <th></th>\n",
       "      <th>TIMESTAMP</th>\n",
       "      <th>X2</th>\n",
       "      <th>X3</th>\n",
       "      <th>X4</th>\n",
       "      <th>X5</th>\n",
       "      <th>X6</th>\n",
       "      <th>X7</th>\n",
       "      <th>X8</th>\n",
       "      <th>X9</th>\n",
       "      <th>X10</th>\n",
       "      <th>X11</th>\n",
       "      <th>X12</th>\n",
       "      <th>X13</th>\n",
       "      <th>X14</th>\n",
       "      <th>X15</th>\n",
       "      <th>X16</th>\n",
       "      <th>X17</th>\n",
       "      <th>X18</th>\n",
       "    </tr>\n",
       "    <tr>\n",
       "      <th>Serial Number</th>\n",
       "      <th></th>\n",
       "      <th></th>\n",
       "      <th></th>\n",
       "      <th></th>\n",
       "      <th></th>\n",
       "      <th></th>\n",
       "      <th></th>\n",
       "      <th></th>\n",
       "      <th></th>\n",
       "      <th></th>\n",
       "      <th></th>\n",
       "      <th></th>\n",
       "      <th></th>\n",
       "      <th></th>\n",
       "      <th></th>\n",
       "      <th></th>\n",
       "      <th></th>\n",
       "      <th></th>\n",
       "    </tr>\n",
       "  </thead>\n",
       "  <tbody>\n",
       "    <tr>\n",
       "      <th>48</th>\n",
       "      <td>2020-02-09 08:01</td>\n",
       "      <td>0.237359</td>\n",
       "      <td>0.176644</td>\n",
       "      <td>1.060111</td>\n",
       "      <td>1.067976</td>\n",
       "      <td>1.258588</td>\n",
       "      <td>-0.079582</td>\n",
       "      <td>0.845695</td>\n",
       "      <td>0.629975</td>\n",
       "      <td>0.059574</td>\n",
       "      <td>-1.734490</td>\n",
       "      <td>-0.465737</td>\n",
       "      <td>-0.012637</td>\n",
       "      <td>-0.035175</td>\n",
       "      <td>-0.464819</td>\n",
       "      <td>-0.010677</td>\n",
       "      <td>-0.011952</td>\n",
       "      <td>-0.013366</td>\n",
       "    </tr>\n",
       "    <tr>\n",
       "      <th>48</th>\n",
       "      <td>2020-02-10 08:16</td>\n",
       "      <td>0.237359</td>\n",
       "      <td>0.176644</td>\n",
       "      <td>1.060111</td>\n",
       "      <td>1.067976</td>\n",
       "      <td>1.258588</td>\n",
       "      <td>-0.079582</td>\n",
       "      <td>0.849884</td>\n",
       "      <td>0.633251</td>\n",
       "      <td>0.059664</td>\n",
       "      <td>-1.684896</td>\n",
       "      <td>-0.410967</td>\n",
       "      <td>-0.012621</td>\n",
       "      <td>-0.035175</td>\n",
       "      <td>-0.409868</td>\n",
       "      <td>-0.010677</td>\n",
       "      <td>-0.011952</td>\n",
       "      <td>-0.012643</td>\n",
       "    </tr>\n",
       "    <tr>\n",
       "      <th>48</th>\n",
       "      <td>2020-02-11 08:31</td>\n",
       "      <td>0.237359</td>\n",
       "      <td>0.176644</td>\n",
       "      <td>1.060111</td>\n",
       "      <td>1.067976</td>\n",
       "      <td>1.258588</td>\n",
       "      <td>-0.079582</td>\n",
       "      <td>0.854143</td>\n",
       "      <td>0.636589</td>\n",
       "      <td>0.059844</td>\n",
       "      <td>-1.635302</td>\n",
       "      <td>-0.315119</td>\n",
       "      <td>-0.012613</td>\n",
       "      <td>-0.035175</td>\n",
       "      <td>-0.313703</td>\n",
       "      <td>-0.010677</td>\n",
       "      <td>-0.011952</td>\n",
       "      <td>-0.012282</td>\n",
       "    </tr>\n",
       "    <tr>\n",
       "      <th>48</th>\n",
       "      <td>2020-02-12 08:46</td>\n",
       "      <td>0.237359</td>\n",
       "      <td>0.176644</td>\n",
       "      <td>1.060111</td>\n",
       "      <td>1.067976</td>\n",
       "      <td>1.258588</td>\n",
       "      <td>-0.079582</td>\n",
       "      <td>0.858803</td>\n",
       "      <td>0.640521</td>\n",
       "      <td>0.060115</td>\n",
       "      <td>-1.583642</td>\n",
       "      <td>-0.219271</td>\n",
       "      <td>-0.012589</td>\n",
       "      <td>-0.035175</td>\n",
       "      <td>-0.217539</td>\n",
       "      <td>-0.010677</td>\n",
       "      <td>-0.011952</td>\n",
       "      <td>-0.011199</td>\n",
       "    </tr>\n",
       "    <tr>\n",
       "      <th>48</th>\n",
       "      <td>2020-02-13 09:01</td>\n",
       "      <td>0.237359</td>\n",
       "      <td>0.176644</td>\n",
       "      <td>1.060111</td>\n",
       "      <td>1.067976</td>\n",
       "      <td>1.258588</td>\n",
       "      <td>-0.079582</td>\n",
       "      <td>0.863227</td>\n",
       "      <td>0.644140</td>\n",
       "      <td>0.060295</td>\n",
       "      <td>-1.534048</td>\n",
       "      <td>-0.127987</td>\n",
       "      <td>-0.012589</td>\n",
       "      <td>-0.035175</td>\n",
       "      <td>-0.125954</td>\n",
       "      <td>-0.010677</td>\n",
       "      <td>-0.011952</td>\n",
       "      <td>-0.011199</td>\n",
       "    </tr>\n",
       "    <tr>\n",
       "      <th>...</th>\n",
       "      <td>...</td>\n",
       "      <td>...</td>\n",
       "      <td>...</td>\n",
       "      <td>...</td>\n",
       "      <td>...</td>\n",
       "      <td>...</td>\n",
       "      <td>...</td>\n",
       "      <td>...</td>\n",
       "      <td>...</td>\n",
       "      <td>...</td>\n",
       "      <td>...</td>\n",
       "      <td>...</td>\n",
       "      <td>...</td>\n",
       "      <td>...</td>\n",
       "      <td>...</td>\n",
       "      <td>...</td>\n",
       "      <td>...</td>\n",
       "      <td>...</td>\n",
       "    </tr>\n",
       "    <tr>\n",
       "      <th>48</th>\n",
       "      <td>2020-04-14 00:01</td>\n",
       "      <td>0.237359</td>\n",
       "      <td>0.176644</td>\n",
       "      <td>1.407310</td>\n",
       "      <td>1.067976</td>\n",
       "      <td>1.258588</td>\n",
       "      <td>-0.079582</td>\n",
       "      <td>1.133848</td>\n",
       "      <td>0.867393</td>\n",
       "      <td>0.078570</td>\n",
       "      <td>1.480844</td>\n",
       "      <td>4.029984</td>\n",
       "      <td>-0.012373</td>\n",
       "      <td>-0.035175</td>\n",
       "      <td>4.045745</td>\n",
       "      <td>-0.010677</td>\n",
       "      <td>-0.011952</td>\n",
       "      <td>-0.001446</td>\n",
       "    </tr>\n",
       "    <tr>\n",
       "      <th>48</th>\n",
       "      <td>2020-04-15 00:16</td>\n",
       "      <td>0.237359</td>\n",
       "      <td>0.176644</td>\n",
       "      <td>1.407310</td>\n",
       "      <td>1.067976</td>\n",
       "      <td>1.258588</td>\n",
       "      <td>-0.079582</td>\n",
       "      <td>1.138296</td>\n",
       "      <td>0.870981</td>\n",
       "      <td>0.078840</td>\n",
       "      <td>1.530438</td>\n",
       "      <td>4.198859</td>\n",
       "      <td>-0.012345</td>\n",
       "      <td>-0.035175</td>\n",
       "      <td>4.215177</td>\n",
       "      <td>-0.010677</td>\n",
       "      <td>-0.011952</td>\n",
       "      <td>-0.000362</td>\n",
       "    </tr>\n",
       "    <tr>\n",
       "      <th>48</th>\n",
       "      <td>2020-04-16 00:31</td>\n",
       "      <td>0.237359</td>\n",
       "      <td>0.176644</td>\n",
       "      <td>1.407310</td>\n",
       "      <td>1.067976</td>\n",
       "      <td>1.258588</td>\n",
       "      <td>-0.079582</td>\n",
       "      <td>1.142649</td>\n",
       "      <td>0.874445</td>\n",
       "      <td>0.079110</td>\n",
       "      <td>1.580032</td>\n",
       "      <td>4.317527</td>\n",
       "      <td>-0.012345</td>\n",
       "      <td>-0.035175</td>\n",
       "      <td>4.334238</td>\n",
       "      <td>-0.010677</td>\n",
       "      <td>-0.011952</td>\n",
       "      <td>-0.000362</td>\n",
       "    </tr>\n",
       "    <tr>\n",
       "      <th>48</th>\n",
       "      <td>2020-04-17 00:46</td>\n",
       "      <td>0.237359</td>\n",
       "      <td>0.176644</td>\n",
       "      <td>1.407310</td>\n",
       "      <td>1.067976</td>\n",
       "      <td>1.258588</td>\n",
       "      <td>-0.079582</td>\n",
       "      <td>1.147262</td>\n",
       "      <td>0.878283</td>\n",
       "      <td>0.079335</td>\n",
       "      <td>1.631692</td>\n",
       "      <td>4.490966</td>\n",
       "      <td>-0.012337</td>\n",
       "      <td>-0.035175</td>\n",
       "      <td>4.508249</td>\n",
       "      <td>-0.010677</td>\n",
       "      <td>-0.011952</td>\n",
       "      <td>-0.000001</td>\n",
       "    </tr>\n",
       "    <tr>\n",
       "      <th>48</th>\n",
       "      <td>2020-04-18 01:01</td>\n",
       "      <td>0.237359</td>\n",
       "      <td>0.176644</td>\n",
       "      <td>1.407310</td>\n",
       "      <td>1.067976</td>\n",
       "      <td>1.258588</td>\n",
       "      <td>-0.079582</td>\n",
       "      <td>1.151803</td>\n",
       "      <td>0.881965</td>\n",
       "      <td>0.079470</td>\n",
       "      <td>1.681286</td>\n",
       "      <td>4.682662</td>\n",
       "      <td>-0.012337</td>\n",
       "      <td>-0.035175</td>\n",
       "      <td>4.700578</td>\n",
       "      <td>-0.010677</td>\n",
       "      <td>-0.011952</td>\n",
       "      <td>-0.000001</td>\n",
       "    </tr>\n",
       "  </tbody>\n",
       "</table>\n",
       "<p>67 rows × 18 columns</p>\n",
       "</div>"
      ],
      "text/plain": [
       "                      TIMESTAMP        X2        X3        X4        X5  \\\n",
       "Serial Number                                                             \n",
       "48             2020-02-09 08:01  0.237359  0.176644  1.060111  1.067976   \n",
       "48             2020-02-10 08:16  0.237359  0.176644  1.060111  1.067976   \n",
       "48             2020-02-11 08:31  0.237359  0.176644  1.060111  1.067976   \n",
       "48             2020-02-12 08:46  0.237359  0.176644  1.060111  1.067976   \n",
       "48             2020-02-13 09:01  0.237359  0.176644  1.060111  1.067976   \n",
       "...                         ...       ...       ...       ...       ...   \n",
       "48             2020-04-14 00:01  0.237359  0.176644  1.407310  1.067976   \n",
       "48             2020-04-15 00:16  0.237359  0.176644  1.407310  1.067976   \n",
       "48             2020-04-16 00:31  0.237359  0.176644  1.407310  1.067976   \n",
       "48             2020-04-17 00:46  0.237359  0.176644  1.407310  1.067976   \n",
       "48             2020-04-18 01:01  0.237359  0.176644  1.407310  1.067976   \n",
       "\n",
       "                     X6        X7        X8        X9       X10       X11  \\\n",
       "Serial Number                                                               \n",
       "48             1.258588 -0.079582  0.845695  0.629975  0.059574 -1.734490   \n",
       "48             1.258588 -0.079582  0.849884  0.633251  0.059664 -1.684896   \n",
       "48             1.258588 -0.079582  0.854143  0.636589  0.059844 -1.635302   \n",
       "48             1.258588 -0.079582  0.858803  0.640521  0.060115 -1.583642   \n",
       "48             1.258588 -0.079582  0.863227  0.644140  0.060295 -1.534048   \n",
       "...                 ...       ...       ...       ...       ...       ...   \n",
       "48             1.258588 -0.079582  1.133848  0.867393  0.078570  1.480844   \n",
       "48             1.258588 -0.079582  1.138296  0.870981  0.078840  1.530438   \n",
       "48             1.258588 -0.079582  1.142649  0.874445  0.079110  1.580032   \n",
       "48             1.258588 -0.079582  1.147262  0.878283  0.079335  1.631692   \n",
       "48             1.258588 -0.079582  1.151803  0.881965  0.079470  1.681286   \n",
       "\n",
       "                    X12       X13       X14       X15       X16       X17  \\\n",
       "Serial Number                                                               \n",
       "48            -0.465737 -0.012637 -0.035175 -0.464819 -0.010677 -0.011952   \n",
       "48            -0.410967 -0.012621 -0.035175 -0.409868 -0.010677 -0.011952   \n",
       "48            -0.315119 -0.012613 -0.035175 -0.313703 -0.010677 -0.011952   \n",
       "48            -0.219271 -0.012589 -0.035175 -0.217539 -0.010677 -0.011952   \n",
       "48            -0.127987 -0.012589 -0.035175 -0.125954 -0.010677 -0.011952   \n",
       "...                 ...       ...       ...       ...       ...       ...   \n",
       "48             4.029984 -0.012373 -0.035175  4.045745 -0.010677 -0.011952   \n",
       "48             4.198859 -0.012345 -0.035175  4.215177 -0.010677 -0.011952   \n",
       "48             4.317527 -0.012345 -0.035175  4.334238 -0.010677 -0.011952   \n",
       "48             4.490966 -0.012337 -0.035175  4.508249 -0.010677 -0.011952   \n",
       "48             4.682662 -0.012337 -0.035175  4.700578 -0.010677 -0.011952   \n",
       "\n",
       "                    X18  \n",
       "Serial Number            \n",
       "48            -0.013366  \n",
       "48            -0.012643  \n",
       "48            -0.012282  \n",
       "48            -0.011199  \n",
       "48            -0.011199  \n",
       "...                 ...  \n",
       "48            -0.001446  \n",
       "48            -0.000362  \n",
       "48            -0.000362  \n",
       "48            -0.000001  \n",
       "48            -0.000001  \n",
       "\n",
       "[67 rows x 18 columns]"
      ]
     },
     "execution_count": 17,
     "metadata": {},
     "output_type": "execute_result"
    }
   ],
   "source": [
    "train_x_by_serial[2]"
   ]
  },
  {
   "cell_type": "code",
   "execution_count": 18,
   "metadata": {},
   "outputs": [
    {
     "data": {
      "text/plain": [
       "Int64Index([48], dtype='int64', name='Serial Number')"
      ]
     },
     "execution_count": 18,
     "metadata": {},
     "output_type": "execute_result"
    }
   ],
   "source": [
    "train_x_by_serial[2].index.unique()"
   ]
  },
  {
   "cell_type": "code",
   "execution_count": 19,
   "metadata": {},
   "outputs": [
    {
     "data": {
      "text/plain": [
       "48"
      ]
     },
     "execution_count": 19,
     "metadata": {},
     "output_type": "execute_result"
    }
   ],
   "source": [
    "train_x_by_serial[2].index.unique().item()"
   ]
  },
  {
   "cell_type": "code",
   "execution_count": 20,
   "metadata": {
    "scrolled": true
   },
   "outputs": [
    {
     "data": {
      "text/plain": [
       "Y    0\n",
       "Name: 54509, dtype: int64"
      ]
     },
     "execution_count": 20,
     "metadata": {},
     "output_type": "execute_result"
    }
   ],
   "source": [
    "train_y.loc[54509]"
   ]
  },
  {
   "cell_type": "markdown",
   "metadata": {},
   "source": [
    "## train, valid 분할"
   ]
  },
  {
   "cell_type": "code",
   "execution_count": 7,
   "metadata": {},
   "outputs": [],
   "source": [
    "def train_test_split(Xs, ys, test_ratio=0.2):\n",
    "    ''' 각 (x, y) 쌍을 label 별로 딕셔너리에 저장 '''\n",
    "    data_per_label = {}\n",
    "\n",
    "    for x, y in zip(Xs, ys):\n",
    "        label = y\n",
    "        if label not in data_per_label:\n",
    "            data_per_label[label] = []\n",
    "        # key: label, value: 해당 label에 해당하는 (x, y) 쌍의 리스트\n",
    "        data_per_label[label].append((x, y))\n",
    "\n",
    "    train = []\n",
    "    test = []\n",
    "\n",
    "    for label in data_per_label:\n",
    "        # label에 해당하는 데이터 가져온다\n",
    "        data = data_per_label[label]\n",
    "        # 테스트 데이터의 개수\n",
    "        n_test = int(len(data) * test_ratio)\n",
    "        test += data[:n_test]\n",
    "        train += data[n_test:]\n",
    "\n",
    "    X_train, y_train = zip(*train)\n",
    "    X_test, y_test = zip(*test)\n",
    "\n",
    "    return X_train, X_test, y_train, y_test"
   ]
  },
  {
   "cell_type": "code",
   "execution_count": 8,
   "metadata": {},
   "outputs": [
    {
     "name": "stdout",
     "output_type": "stream",
     "text": [
      "Train Data의 개수 : 6618\n",
      "Validation Data의 개수 : 1654\n",
      "Test Data의 개수 : 2069\n"
     ]
    }
   ],
   "source": [
    "X_train, X_val, y_train, y_val = train_test_split(train_x_by_serial, train_y['Y'], test_ratio=0.2)\n",
    "\n",
    "# X data에서 Timestamp를 제거합니다.\n",
    "X_train = [x.drop(columns='TIMESTAMP') for x in X_train]\n",
    "X_val = [x.drop(columns='TIMESTAMP') for x in X_val]\n",
    "X_test = [x.drop(columns='TIMESTAMP') for x in test_x_by_serial]\n",
    "\n",
    "print(\"Train Data의 개수 :\", len(X_train))\n",
    "print(\"Validation Data의 개수 :\", len(X_val))\n",
    "print(\"Test Data의 개수 :\", len(X_test))"
   ]
  },
  {
   "cell_type": "markdown",
   "metadata": {},
   "source": [
    "## 머신러닝 모델에 적용하기 위해 학습, 검증, 테스트용 데이터를 각각 하나의 numpy array로 합칩니다."
   ]
  },
  {
   "cell_type": "code",
   "execution_count": 9,
   "metadata": {},
   "outputs": [],
   "source": [
    "def align_data(data, series_length):\n",
    "    # X2~18열에 해당하는 시계열 데이터 값만 추출\n",
    "    data_features = [x[feature_keys] for x in data]\n",
    "    len_data = len(data_features)\n",
    "    length_aligned_X = []\n",
    "    for x in data_features:\n",
    "        # 시계열 데이터 길이가 series_length 이상이면 > 뒷부분 잘라냄\n",
    "        if len(x) >= series_length:\n",
    "            length_aligned_X.append(x[:series_length])\n",
    "        # 시계열 데이터 길이가 series_length보다 작으면 > 마지막 행을 반복하여 길이를 맞춤\n",
    "        else:\n",
    "            length_aligned_X.append(x.append([x.iloc[-1]] * (series_length - len(x))))\n",
    "    return np.array(length_aligned_X).reshape(len_data, -1)"
   ]
  },
  {
   "cell_type": "code",
   "execution_count": 10,
   "metadata": {},
   "outputs": [],
   "source": [
    "series_length = 67\n",
    "\n",
    "X_train = align_data(X_train, series_length)\n",
    "X_val = align_data(X_val, series_length)\n",
    "X_test = align_data(X_test, series_length)"
   ]
  },
  {
   "cell_type": "code",
   "execution_count": 11,
   "metadata": {},
   "outputs": [],
   "source": [
    "y_train = np.array(y_train)\n",
    "y_val = np.array(y_val)"
   ]
  },
  {
   "cell_type": "markdown",
   "metadata": {},
   "source": [
    "# 모델 학습"
   ]
  },
  {
   "cell_type": "code",
   "execution_count": 16,
   "metadata": {},
   "outputs": [
    {
     "name": "stdout",
     "output_type": "stream",
     "text": [
      "Validation F1 score = 0.890\n"
     ]
    }
   ],
   "source": [
    "# 완전 기본 모델!\n",
    "model = XGBClassifier(random_state = 42)\n",
    "model.fit(X_train, y_train)\n",
    "\n",
    "# 검증 데이터에 대한 예측\n",
    "y_val_pred = model.predict(X_val)\n",
    "# 검증 데이터에 대한 F1 점수 계산\n",
    "f1_val = f1_score(y_val, y_val_pred, average='macro')\n",
    "print('Validation F1 score = %.3f' % f1_val)"
   ]
  },
  {
   "cell_type": "markdown",
   "metadata": {},
   "source": [
    "# 모델 평가 및 결과 저장\n"
   ]
  },
  {
   "cell_type": "code",
   "execution_count": 17,
   "metadata": {},
   "outputs": [],
   "source": [
    "submission = pd.read_csv(os.path.join(data_dir, \"test_y.csv\"), index_col='Serial Number')\n",
    "\n",
    "# 테스트 데이터에 대해 예측하고, 결과를 저장합니다.\n",
    "y_test_pred = model.predict(X_test)\n",
    "submission[\"Y\"] = y_test_pred\n",
    "submission.to_csv(\"submission.csv\", index_label='Serial Number')"
   ]
  },
  {
   "cell_type": "markdown",
   "metadata": {},
   "source": [
    "### 결과 검증\n",
    "\n",
    "`submission.csv` 파일을 다시 불러와 올바르게 값을 채웠는지 다시 한번 확인합니다."
   ]
  },
  {
   "cell_type": "code",
   "execution_count": 18,
   "metadata": {},
   "outputs": [
    {
     "data": {
      "text/html": [
       "<div>\n",
       "<style scoped>\n",
       "    .dataframe tbody tr th:only-of-type {\n",
       "        vertical-align: middle;\n",
       "    }\n",
       "\n",
       "    .dataframe tbody tr th {\n",
       "        vertical-align: top;\n",
       "    }\n",
       "\n",
       "    .dataframe thead th {\n",
       "        text-align: right;\n",
       "    }\n",
       "</style>\n",
       "<table border=\"1\" class=\"dataframe\">\n",
       "  <thead>\n",
       "    <tr style=\"text-align: right;\">\n",
       "      <th></th>\n",
       "      <th>Y</th>\n",
       "    </tr>\n",
       "    <tr>\n",
       "      <th>Serial Number</th>\n",
       "      <th></th>\n",
       "    </tr>\n",
       "  </thead>\n",
       "  <tbody>\n",
       "    <tr>\n",
       "      <th>100122I</th>\n",
       "      <td>1</td>\n",
       "    </tr>\n",
       "    <tr>\n",
       "      <th>100368G</th>\n",
       "      <td>0</td>\n",
       "    </tr>\n",
       "    <tr>\n",
       "      <th>101403L</th>\n",
       "      <td>0</td>\n",
       "    </tr>\n",
       "    <tr>\n",
       "      <th>101426G</th>\n",
       "      <td>0</td>\n",
       "    </tr>\n",
       "    <tr>\n",
       "      <th>101505B</th>\n",
       "      <td>0</td>\n",
       "    </tr>\n",
       "    <tr>\n",
       "      <th>...</th>\n",
       "      <td>...</td>\n",
       "    </tr>\n",
       "    <tr>\n",
       "      <th>997719U</th>\n",
       "      <td>0</td>\n",
       "    </tr>\n",
       "    <tr>\n",
       "      <th>998737L</th>\n",
       "      <td>0</td>\n",
       "    </tr>\n",
       "    <tr>\n",
       "      <th>999308S</th>\n",
       "      <td>0</td>\n",
       "    </tr>\n",
       "    <tr>\n",
       "      <th>999800H</th>\n",
       "      <td>0</td>\n",
       "    </tr>\n",
       "    <tr>\n",
       "      <th>999974D</th>\n",
       "      <td>1</td>\n",
       "    </tr>\n",
       "  </tbody>\n",
       "</table>\n",
       "<p>2069 rows × 1 columns</p>\n",
       "</div>"
      ],
      "text/plain": [
       "               Y\n",
       "Serial Number   \n",
       "100122I        1\n",
       "100368G        0\n",
       "101403L        0\n",
       "101426G        0\n",
       "101505B        0\n",
       "...           ..\n",
       "997719U        0\n",
       "998737L        0\n",
       "999308S        0\n",
       "999800H        0\n",
       "999974D        1\n",
       "\n",
       "[2069 rows x 1 columns]"
      ]
     },
     "execution_count": 18,
     "metadata": {},
     "output_type": "execute_result"
    }
   ],
   "source": [
    "submission = pd.read_csv(\"submission.csv\", index_col='Serial Number')\n",
    "submission"
   ]
  },
  {
   "cell_type": "code",
   "execution_count": 19,
   "metadata": {},
   "outputs": [
    {
     "name": "stdout",
     "output_type": "stream",
     "text": [
      "0.17158047365877235\n",
      "Y    0.146518\n",
      "dtype: float64\n"
     ]
    }
   ],
   "source": [
    "# 예측 결과 중 1의 비율을 계산하고, 학습용 데이터의 비율과 비교합니다.\n",
    "print(submission[\"Y\"].mean())\n",
    "print(train_y.mean())"
   ]
  },
  {
   "cell_type": "markdown",
   "metadata": {},
   "source": [
    "### 제출\n",
    "\n",
    "우측 상단의 제출 버튼을 눌러, `competition.ipynb` 파일과 `submission.csv` 파일을 제출합니다."
   ]
  }
 ],
 "metadata": {
  "kernelspec": {
   "display_name": "Python 3 (ipykernel)",
   "language": "python",
   "name": "python3"
  },
  "language_info": {
   "codemirror_mode": {
    "name": "ipython",
    "version": 3
   },
   "file_extension": ".py",
   "mimetype": "text/x-python",
   "name": "python",
   "nbconvert_exporter": "python",
   "pygments_lexer": "ipython3",
   "version": "3.10.13"
  }
 },
 "nbformat": 4,
 "nbformat_minor": 2
}
